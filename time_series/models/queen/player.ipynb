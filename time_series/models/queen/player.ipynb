{
 "cells": [
  {
   "cell_type": "code",
   "execution_count": 2,
   "metadata": {
    "colab": {
     "base_uri": "https://localhost:8080/",
     "height": 54
    },
    "colab_type": "code",
    "executionInfo": {
     "elapsed": 414,
     "status": "ok",
     "timestamp": 1542962469311,
     "user": {
      "displayName": "Thomas Rost",
      "photoUrl": "",
      "userId": "02788323599406472773"
     },
     "user_tz": -60
    },
    "id": "Wlhza9kkuOaw",
    "outputId": "a19afcae-0d2b-4405-a585-a88166337c08"
   },
   "outputs": [],
   "source": [
    "file = 'created/queenLoss014.0327Len100sLen300.mid'\n",
    "\n",
    "\n",
    "import glob\n",
    "import os\n",
    "\n",
    "list_of_files = glob.glob('/content/drive/My Drive/Colab Notebooks/Music/ADEHack2018LSTM/muse/created/*.mid') # gets latest checkpoint\n",
    "path = 'C:\\\\Users\\\\woooh\\\\Documents\\\\GitHub\\\\tensorflow_1.X_playground\\\\time_series\\\\models\\\\queen\\\\created\\\\*.mid'\n",
    "#file = max(list_of_files, key=os.path.getctime)\n",
    "\n",
    "#file\n",
    "\n",
    "file =  glob.glob(path)[0]"
   ]
  },
  {
   "cell_type": "code",
   "execution_count": 3,
   "metadata": {},
   "outputs": [
    {
     "data": {
      "text/plain": [
       "'C:\\\\Users\\\\woooh\\\\Documents\\\\GitHub\\\\tensorflow_1.X_playground\\\\time_series\\\\models\\\\queen\\\\created\\\\NOV18queen3Loss014.6580Len100sLen200.mid'"
      ]
     },
     "execution_count": 3,
     "metadata": {},
     "output_type": "execute_result"
    }
   ],
   "source": [
    "file"
   ]
  },
  {
   "cell_type": "code",
   "execution_count": 4,
   "metadata": {
    "colab": {
     "base_uri": "https://localhost:8080/",
     "height": 54
    },
    "colab_type": "code",
    "executionInfo": {
     "elapsed": 687,
     "status": "ok",
     "timestamp": 1542962363098,
     "user": {
      "displayName": "Thomas Rost",
      "photoUrl": "",
      "userId": "02788323599406472773"
     },
     "user_tz": -60
    },
    "id": "28LztbfhuS-F",
    "outputId": "bda80db9-46c7-4302-fbea-ff7f2a026dfc"
   },
   "outputs": [],
   "source": [
    "# from google.colab import drive\n",
    "\n",
    "# # This will prompt for authorization.\n",
    "# drive.mount('/content/drive')"
   ]
  },
  {
   "cell_type": "code",
   "execution_count": 6,
   "metadata": {},
   "outputs": [
    {
     "name": "stdout",
     "output_type": "stream",
     "text": [
      "Collecting pygame\n",
      "  Downloading https://files.pythonhosted.org/packages/ed/56/b63ab3724acff69f4080e54c4bc5f55d1fbdeeb19b92b70acf45e88a5908/pygame-1.9.6-cp37-cp37m-win_amd64.whl (4.3MB)\n",
      "Installing collected packages: pygame\n",
      "Successfully installed pygame-1.9.6\n"
     ]
    }
   ],
   "source": [
    "!pip install pygame"
   ]
  },
  {
   "cell_type": "code",
   "execution_count": 7,
   "metadata": {
    "colab": {
     "base_uri": "https://localhost:8080/",
     "height": 266
    },
    "colab_type": "code",
    "executionInfo": {
     "elapsed": 505,
     "status": "error",
     "timestamp": 1542962505999,
     "user": {
      "displayName": "Thomas Rost",
      "photoUrl": "",
      "userId": "02788323599406472773"
     },
     "user_tz": -60
    },
    "id": "z9dkvdo6uOa3",
    "outputId": "0d8a3595-9fc9-4b9d-df7e-08657eb24b53"
   },
   "outputs": [
    {
     "name": "stdout",
     "output_type": "stream",
     "text": [
      "pygame 1.9.6\n",
      "Hello from the pygame community. https://www.pygame.org/contribute.html\n"
     ]
    }
   ],
   "source": [
    "import pygame\n",
    "pygame.init()\n",
    "\n",
    "pygame.mixer.music.load(file)\n",
    "pygame.mixer.music.play()\n",
    "#pygame.event.wait()"
   ]
  },
  {
   "cell_type": "code",
   "execution_count": 5,
   "metadata": {
    "colab": {
     "base_uri": "https://localhost:8080/",
     "height": 122
    },
    "colab_type": "code",
    "executionInfo": {
     "elapsed": 5301,
     "status": "ok",
     "timestamp": 1542962488766,
     "user": {
      "displayName": "Thomas Rost",
      "photoUrl": "",
      "userId": "02788323599406472773"
     },
     "user_tz": -60
    },
    "id": "-MOEdT6RuOa6",
    "outputId": "a636b0c8-db13-46dc-a227-5150d9a21a5c"
   },
   "outputs": [
    {
     "name": "stdout",
     "output_type": "stream",
     "text": [
      "Collecting pygame\n",
      "\u001b[?25l  Downloading https://files.pythonhosted.org/packages/b3/5e/fb7c85304ad1fd52008fd25fce97a7f59e6147ae97378afc86cf0f5d9146/pygame-1.9.4-cp36-cp36m-manylinux1_x86_64.whl (12.1MB)\n",
      "\u001b[K    100% |████████████████████████████████| 12.1MB 888kB/s \n",
      "\u001b[?25hInstalling collected packages: pygame\n",
      "Successfully installed pygame-1.9.4\n"
     ]
    }
   ],
   "source": [
    "!pip install pygame"
   ]
  },
  {
   "cell_type": "code",
   "execution_count": null,
   "metadata": {
    "colab": {},
    "colab_type": "code",
    "id": "uW3gHrvquxB4"
   },
   "outputs": [],
   "source": []
  }
 ],
 "metadata": {
  "colab": {
   "name": "player.ipynb",
   "provenance": [],
   "version": "0.3.2"
  },
  "kernelspec": {
   "display_name": "Python 3",
   "language": "python",
   "name": "python3"
  },
  "language_info": {
   "codemirror_mode": {
    "name": "ipython",
    "version": 3
   },
   "file_extension": ".py",
   "mimetype": "text/x-python",
   "name": "python",
   "nbconvert_exporter": "python",
   "pygments_lexer": "ipython3",
   "version": "3.7.3"
  }
 },
 "nbformat": 4,
 "nbformat_minor": 2
}
