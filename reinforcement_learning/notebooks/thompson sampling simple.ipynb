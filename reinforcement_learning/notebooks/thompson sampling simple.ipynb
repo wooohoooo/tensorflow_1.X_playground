{
 "cells": [
  {
   "cell_type": "code",
   "execution_count": 7,
   "metadata": {},
   "outputs": [
    {
     "name": "stdout",
     "output_type": "stream",
     "text": [
      "The autoreload extension is already loaded. To reload it, use:\n",
      "  %reload_ext autoreload\n"
     ]
    }
   ],
   "source": [
    "\n",
    "%load_ext autoreload\n",
    "\n",
    "%autoreload 2"
   ]
  },
  {
   "cell_type": "code",
   "execution_count": 8,
   "metadata": {},
   "outputs": [],
   "source": [
    "import sys\n",
    "import os\n",
    "#make the self written stuff findeable independent on who downloads it\n",
    "#sts.path.append( ) makes the module importable\n",
    "# os.path.dirname(os.getcwd()) provides the parent directory\n",
    "sys.path.append(os.path.dirname(os.getcwd()))"
   ]
  },
  {
   "cell_type": "code",
   "execution_count": 9,
   "metadata": {},
   "outputs": [
    {
     "data": {
      "text/plain": [
       "['C:\\\\Users\\\\Utis\\\\Documents\\\\GitHub\\\\tensorflow_1.X_playground\\\\reinforcement_learning',\n",
       " 'C:\\\\Users\\\\Utis\\\\Miniconda3\\\\envs\\\\tf_gpu\\\\python37.zip',\n",
       " 'C:\\\\Users\\\\Utis\\\\Miniconda3\\\\envs\\\\tf_gpu\\\\DLLs',\n",
       " 'C:\\\\Users\\\\Utis\\\\Miniconda3\\\\envs\\\\tf_gpu\\\\lib',\n",
       " 'C:\\\\Users\\\\Utis\\\\Miniconda3\\\\envs\\\\tf_gpu',\n",
       " '',\n",
       " 'C:\\\\Users\\\\Utis\\\\Miniconda3\\\\envs\\\\tf_gpu\\\\lib\\\\site-packages',\n",
       " 'C:\\\\Users\\\\Utis\\\\Miniconda3\\\\envs\\\\tf_gpu\\\\lib\\\\site-packages\\\\IPython\\\\extensions',\n",
       " 'C:\\\\Users\\\\Utis\\\\.ipython',\n",
       " 'C:\\\\Users\\\\Utis\\\\Documents\\\\GitHub\\\\tensorflow_1.X_playground',\n",
       " 'C:\\\\Users\\\\Utis\\\\Documents\\\\GitHub\\\\tensorflow_1.X_playground']"
      ]
     },
     "execution_count": 9,
     "metadata": {},
     "output_type": "execute_result"
    }
   ],
   "source": [
    "sys.path"
   ]
  },
  {
   "cell_type": "code",
   "execution_count": 10,
   "metadata": {},
   "outputs": [
    {
     "name": "stdout",
     "output_type": "stream",
     "text": [
      "current directory is : C:\\Users\\Utis\\Documents\\GitHub\\tensorflow_1.X_playground\\reinforcement_learning\n",
      "Directory name is : reinforcement_learning\n"
     ]
    }
   ],
   "source": [
    "import os\n",
    " \n",
    "dirpath = os.getcwd()\n",
    "print(\"current directory is : \" + dirpath)\n",
    "foldername = os.path.basename(dirpath)\n",
    "print(\"Directory name is : \" + foldername)\n"
   ]
  },
  {
   "cell_type": "code",
   "execution_count": 11,
   "metadata": {},
   "outputs": [
    {
     "ename": "ModuleNotFoundError",
     "evalue": "No module named 'data.generators'",
     "output_type": "error",
     "traceback": [
      "\u001b[1;31m---------------------------------------------------------------------------\u001b[0m",
      "\u001b[1;31mModuleNotFoundError\u001b[0m                       Traceback (most recent call last)",
      "\u001b[1;32m<ipython-input-11-51da344b4ccf>\u001b[0m in \u001b[0;36m<module>\u001b[1;34m\u001b[0m\n\u001b[1;32m----> 1\u001b[1;33m \u001b[1;32mfrom\u001b[0m \u001b[0mdata\u001b[0m\u001b[1;33m.\u001b[0m\u001b[0mgenerators\u001b[0m \u001b[1;32mimport\u001b[0m \u001b[0mToyDataset\u001b[0m\u001b[1;33m\u001b[0m\u001b[1;33m\u001b[0m\u001b[0m\n\u001b[0m",
      "\u001b[1;31mModuleNotFoundError\u001b[0m: No module named 'data.generators'"
     ]
    }
   ],
   "source": [
    "from data.generators import ToyDataset\n"
   ]
  },
  {
   "cell_type": "code",
   "execution_count": null,
   "metadata": {},
   "outputs": [],
   "source": []
  }
 ],
 "metadata": {
  "kernelspec": {
   "display_name": "Python 3",
   "language": "python",
   "name": "python3"
  },
  "language_info": {
   "codemirror_mode": {
    "name": "ipython",
    "version": 3
   },
   "file_extension": ".py",
   "mimetype": "text/x-python",
   "name": "python",
   "nbconvert_exporter": "python",
   "pygments_lexer": "ipython3",
   "version": "3.7.3"
  }
 },
 "nbformat": 4,
 "nbformat_minor": 2
}
